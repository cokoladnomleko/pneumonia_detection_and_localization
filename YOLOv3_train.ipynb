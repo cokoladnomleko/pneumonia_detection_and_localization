{
  "nbformat": 4,
  "nbformat_minor": 0,
  "metadata": {
    "colab": {
      "name": "ABS_projekat_yolov3.ipynb",
      "provenance": [],
      "collapsed_sections": []
    },
    "kernelspec": {
      "name": "python3",
      "display_name": "Python 3"
    }
  },
  "cells": [
    {
      "cell_type": "code",
      "metadata": {
        "id": "2FDNoBmKir5U",
        "colab_type": "code",
        "colab": {}
      },
      "source": [
        "import os\n",
        "import cv2"
      ],
      "execution_count": null,
      "outputs": []
    },
    {
      "cell_type": "markdown",
      "metadata": {
        "id": "tFmAZe1GMQI2",
        "colab_type": "text"
      },
      "source": [
        "Connecting Google Drive to Colab"
      ]
    },
    {
      "cell_type": "code",
      "metadata": {
        "id": "ikyMxOXAMCoM",
        "colab_type": "code",
        "colab": {
          "base_uri": "https://localhost:8080/",
          "height": 122
        },
        "outputId": "c0a91884-0cc3-4338-f895-63f984db4d57"
      },
      "source": [
        "from google.colab import drive\n",
        "drive.mount('/content/drive')"
      ],
      "execution_count": null,
      "outputs": []
    },
    {
      "cell_type": "markdown",
      "metadata": {
        "id": "pctc1fvfMfeL",
        "colab_type": "text"
      },
      "source": [
        "Loading the Darknet folder"
      ]
    },
    {
      "cell_type": "code",
      "metadata": {
        "id": "A7KCkLoCMcr1",
        "colab_type": "code",
        "colab": {
          "base_uri": "https://localhost:8080/",
          "height": 1000
        },
        "outputId": "40500017-8089-400f-ccb8-2b1fff7d833e"
      },
      "source": [
        "!unzip \"/content/drive/My Drive/--path to zipped darknet folder--\""
      ],
      "execution_count": null,
      "outputs": []
    },
    {
      "cell_type": "code",
      "metadata": {
        "id": "rKOlNE7Ts4pM",
        "colab_type": "code",
        "colab": {}
      },
      "source": [
        "#!cd darknet && sed '1 s/^.*$/GPU=0/; 2 s/^.*$/CUDNN=0/; 3 s/^.*$/OPENCV=1/' -i Makefile"
      ],
      "execution_count": null,
      "outputs": []
    },
    {
      "cell_type": "markdown",
      "metadata": {
        "id": "nv5hv_oINMrU",
        "colab_type": "text"
      },
      "source": [
        "Compiling Darknet"
      ]
    },
    {
      "cell_type": "code",
      "metadata": {
        "id": "NcbZvyFENPbc",
        "colab_type": "code",
        "colab": {
          "base_uri": "https://localhost:8080/",
          "height": 1000
        },
        "outputId": "91778bb9-1dee-4230-870a-0dbfdeab3b43"
      },
      "source": [
        "%cd /content/darknet-master\n",
        "!make\n",
        "!chmod +x ./darknet"
      ],
      "execution_count": null,
      "outputs": []
    },
    {
      "cell_type": "markdown",
      "metadata": {
        "id": "esjFgcfmNZ40",
        "colab_type": "text"
      },
      "source": [
        "Saving weights during training"
      ]
    },
    {
      "cell_type": "code",
      "metadata": {
        "id": "jtrSUly9NeC1",
        "colab_type": "code",
        "colab": {}
      },
      "source": [
        "!rm /content/darknet/backup -r\n",
        "!ln -s /content/drive/'My Drive'/\"--path to folder for saving weights--\""
      ],
      "execution_count": null,
      "outputs": []
    },
    {
      "cell_type": "markdown",
      "metadata": {
        "id": "n6tksEm8YO4E",
        "colab_type": "text"
      },
      "source": [
        "Changing files to unix format"
      ]
    },
    {
      "cell_type": "code",
      "metadata": {
        "id": "8DjETHlDYSRt",
        "colab_type": "code",
        "colab": {
          "base_uri": "https://localhost:8080/",
          "height": 459
        },
        "outputId": "27d51762-705f-454d-d953-af555a58ffb8"
      },
      "source": [
        "!sudo apt install dos2unix"
      ],
      "execution_count": null,
      "outputs": []
    },
    {
      "cell_type": "code",
      "metadata": {
        "id": "o-wr-cTZYYdx",
        "colab_type": "code",
        "colab": {
          "base_uri": "https://localhost:8080/",
          "height": 136
        },
        "outputId": "32480b5c-211d-434b-d896-cdef6c9104b1"
      },
      "source": [
        "!dos2unix ./data/train.txt\n",
        "!dos2unix ./data/val.txt\n",
        "!dos2unix ./data/yolo.data\n",
        "!dos2unix ./data/yolo.names\n",
        "!dos2unix ./cfg/yolov3_custom_test.cfg"
      ],
      "execution_count": null,
      "outputs": []
    },
    {
      "cell_type": "markdown",
      "metadata": {
        "id": "wNvZkDgsYfEj",
        "colab_type": "text"
      },
      "source": [
        "# Training"
      ]
    },
    {
      "cell_type": "code",
      "metadata": {
        "id": "GwDQVWkCYiO7",
        "colab_type": "code",
        "colab": {
          "base_uri": "https://localhost:8080/",
          "height": 1000
        },
        "outputId": "674fa995-1c86-4784-c5dd-8bd74db34542"
      },
      "source": [
        "%cd /content/darknet\n",
        "!./darknet detector train data/yolo.data cfg/yolov3_custom_train.cfg darknet53.conv.74 | tee train_log.txt"
      ],
      "execution_count": null,
      "outputs": []
    },
    {
      "cell_type": "code",
      "metadata": {
        "id": "PAQUgsJ6VJRq",
        "colab_type": "code",
        "colab": {
          "base_uri": "https://localhost:8080/",
          "height": 357
        },
        "outputId": "2ade4765-f5fb-43af-acf3-81d6988198ce"
      },
      "source": [
        "!nvidia-smi"
      ],
      "execution_count": null,
      "outputs": []
    },
    {
      "cell_type": "code",
      "metadata": {
        "id": "elqbanRKBrW7",
        "colab_type": "code",
        "colab": {}
      },
      "source": [
        "import numpy as np\n",
        "import time\n",
        "import matplotlib.pyplot as plt"
      ],
      "execution_count": null,
      "outputs": []
    },
    {
      "cell_type": "code",
      "metadata": {
        "id": "mRfA-4zsm9uZ",
        "colab_type": "code",
        "colab": {
          "base_uri": "https://localhost:8080/",
          "height": 385
        },
        "outputId": "045d3320-ed1d-4349-8e96-af595caa6095"
      },
      "source": [
        "import seaborn as sns\n",
        "\n",
        "iters = []\n",
        "losses = []\n",
        "total_losses = []\n",
        "with open(\"train_log.txt\", 'r') as f:\n",
        "    for i,line in enumerate(f):\n",
        "        if \"images\" in line:\n",
        "            iters.append(int(line.strip().split()[0].split(\":\")[0]))\n",
        "            losses.append(float(line.strip().split()[2]))        \n",
        "            total_losses.append(float(line.strip().split()[1].split(',')[0]))\n",
        "\n",
        "plt.figure(figsize=(20, 5))\n",
        "plt.subplot(1,2,1)\n",
        "sns.lineplot(iters, total_losses, label=\"totla loss\")\n",
        "sns.lineplot(iters, losses, label=\"avg loss\")\n",
        "plt.xlabel(\"Iteration\")\n",
        "plt.ylabel(\"Loss\")\n",
        "\n",
        "plt.subplot(1,2,2)\n",
        "sns.lineplot(iters, total_losses, label=\"totla loss\")\n",
        "sns.lineplot(iters, losses, label=\"avg loss\")\n",
        "plt.xlabel(\"Iteration\")\n",
        "plt.ylabel(\"Loss\")\n",
        "plt.ylim([0, 4.05])"
      ],
      "execution_count": null,
      "outputs": []
    },
    {
      "source": [
        "Showing some predictions"
      ],
      "cell_type": "markdown",
      "metadata": {}
    },
    {
      "cell_type": "code",
      "metadata": {
        "id": "MDQ7t8cSnpY4",
        "colab_type": "code",
        "colab": {}
      },
      "source": [
        "def get_bbox(patient_id):\n",
        "  bbox = []\n",
        "  with open(\"detection.txt\", 'r') as f:\n",
        "      for i,line in enumerate(f):\n",
        "          if \"BBox-LTRB\" in line:\n",
        "              bb = (line.strip('\\n')).split(\":\")[1]\n",
        "              bbox = bbox + bb.split(\",\")\n",
        "  if len(bbox) > 5:\n",
        "    l1 = int(bbox[0])\n",
        "    t1 = int(bbox[1])\n",
        "    r1 = int(bbox[2])\n",
        "    b1 = int(bbox[3])\n",
        "    l2 = int(bbox[4])\n",
        "    t2 = int(bbox[5])\n",
        "    r2 = int(bbox[6])\n",
        "    b2 = int(bbox[7])\n",
        "    rect1 = cv2.rectangle(cv2.imread(\"test_imgs/{}.png\".format(patient_id)), (l1, t1), (r1, b1), (0,117,97), 2)\n",
        "    rect2 = cv2.rectangle(rect1, (l2, t2), (r2, b2), (0,117,97), 2)\n",
        "    plt.figure()\n",
        "    plt.imshow(rect2)\n",
        "    plt.axis('off')\n",
        "    plt.title('YOLOv3')\n",
        "  elif len(bbox) == 0:\n",
        "    plt.figure()\n",
        "    plt.imshow(cv2.imread(\"test_imgs/{}.png\".format(patient_id)))\n",
        "    plt.axis('off')\n",
        "    plt.title('YOLOv3')\n",
        "  else:\n",
        "    l = int(bbox[0])\n",
        "    t = int(bbox[1])\n",
        "    r = int(bbox[2])\n",
        "    b = int(bbox[3])        \n",
        "    rect = cv2.rectangle(cv2.imread(\"test_imgs/{}.png\".format(patient_id)), (l, t), (r, b), (0,117,97), 2)\n",
        "    plt.figure()\n",
        "    plt.imshow(rect)\n",
        "    plt.axis('off')\n",
        "    plt.title('YOLOv3')\n",
        "\n",
        "def get_ltrb(xc,yc,rw,rh):\n",
        "    l = int((xc-rw/2)*128)\n",
        "    t = int((yc-rh/2)*128+rh*128)\n",
        "    r = int(l + rw*128)\n",
        "    b = int((yc-rh/2)*128)\n",
        "    return [l,t,r,b]\n",
        "\n",
        "def get_bbox_0(patient_id):\n",
        "  bb = []\n",
        "  path = \"test_imgs/locs/{}.txt\".format(patient_id)\n",
        "  if os.path.isfile(path):\n",
        "    with open(path, 'r') as f:\n",
        "      for line in f:\n",
        "        bb = bb + [float(i) for i in line.split()[1:5]]\n",
        "    if len(bb) > 5:\n",
        "      xc1 = bb[0]\n",
        "      yc1 = bb[1]\n",
        "      rw1 = bb[2]\n",
        "      rh1 = bb[3]\n",
        "      xc2 = bb[4]\n",
        "      yc2 = bb[5]\n",
        "      rw2 = bb[6]\n",
        "      rh2 = bb[7]\n",
        "      ltrb1 = get_ltrb(xc1,yc1,rw1,rh1)\n",
        "      ltrb2 = get_ltrb(xc2,yc2,rw2,rh2)\n",
        "      rect1 = cv2.rectangle(cv2.imread(\"test_imgs/{}.png\".format(patient_id)), (ltrb1[0], ltrb1[1]), (ltrb1[2], ltrb1[3]), (143,19,97), 2)\n",
        "      rect12 = cv2.rectangle(rect1, (ltrb2[0], ltrb2[1]), (ltrb2[2], ltrb2[3]), (143,19,97), 2)\n",
        "      plt.subplot(1,2,1)\n",
        "      plt.imshow(rect2) \n",
        "      plt.axis('off')\n",
        "      plt.title('Radiolozi')\n",
        "    else:      \n",
        "      xc = bb[0]\n",
        "      yc = bb[1]\n",
        "      rw = bb[2]\n",
        "      rh = bb[3]\n",
        "      ltrb = get_ltrb(xc,yc,rw,rh)\n",
        "      rect = cv2.rectangle(cv2.imread(\"test_imgs/{}.png\".format(patient_id)), (ltrb[0], ltrb[1]), (ltrb[2], ltrb[3]), (143,19,97), 2)\n",
        "      plt.subplot(1,2,1)\n",
        "      plt.imshow(rect)   \n",
        "      plt.axis('off')\n",
        "      plt.title('Radiolozi') \n",
        "  else:\n",
        "    plt.subplot(1,2,1)      \n",
        "    plt.imshow(cv2.imread(\"test_imgs/{}.png\".format(patient_id)))   \n",
        "    plt.axis('off')\n",
        "    plt.title('Radiolozi')"
      ],
      "execution_count": null,
      "outputs": []
    },
    {
      "cell_type": "code",
      "metadata": {
        "id": "rgnPWl1UURca",
        "colab_type": "code",
        "colab": {}
      },
      "source": [
        "cfg_path = \"cfg/yolov3_custom_test.cfg\"\n",
        "weights_path = \"backup/yolov3_custom_train_2000.weights\"\n",
        "net = cv2.dnn.readNetFromDarknet(cfg_path, weights_path)"
      ],
      "execution_count": null,
      "outputs": []
    },
    {
      "cell_type": "code",
      "metadata": {
        "id": "gfavXxurXEA7",
        "colab_type": "code",
        "colab": {}
      },
      "source": [
        "def predict(image, pat_id):\n",
        "    ln = net.getLayerNames()\n",
        "    ln = [ln[i[0] - 1] for i in net.getUnconnectedOutLayers()]\n",
        "    \n",
        "    blob = cv2.dnn.blobFromImage(image, 1/255.0, (416, 416), swapRB=True, crop=False)\n",
        "\n",
        "    net.setInput(blob)\n",
        "    layerOutputs = net.forward(ln)\n",
        "    \n",
        "    boxes = []\n",
        "    confidences = []\n",
        "    classIDs = []\n",
        "    threshold = 0.1\n",
        "    br_det = 0\n",
        "    ltrb = []\n",
        "    for output in layerOutputs:\n",
        "        for detection in output:\n",
        "            if detection[4] > threshold:\n",
        "              br_det = br_det + 1\n",
        "              x, y, w, h = detection[:4]\n",
        "              ltrb = ltrb + [get_ltrb(x,y,w,h)]\n",
        "    if br_det == 0:\n",
        "      plt.figure()\n",
        "      get_bbox_0(pat_id)\n",
        "      plt.subplot(1,2,2)\n",
        "      plt.imshow(image)\n",
        "      plt.title('YOLOv3')\n",
        "      plt.axis('off')\n",
        "      \n",
        "    elif br_det > 0:\n",
        "      rect = image\n",
        "      ltrb = ltrb[0:2]\n",
        "      for l in ltrb:\n",
        "        rect = cv2.rectangle(rect, (l[0], l[1]), (l[2], l[3]), (0,117,97), 2)\n",
        "      plt.figure()\n",
        "      get_bbox_0(pat_id)\n",
        "      plt.subplot(1,2,2)\n",
        "      plt.imshow(rect)\n",
        "      plt.title('YOLOv3')\n",
        "      plt.axis('off')\n",
        "    return"
      ],
      "execution_count": null,
      "outputs": []
    },
    {
      "cell_type": "code",
      "metadata": {
        "id": "DZ1ba8s2XoqC",
        "colab_type": "code",
        "colab": {
          "base_uri": "https://localhost:8080/",
          "height": 1000
        },
        "outputId": "bfbd8184-dcc4-4196-f7c1-07d3c81276d0"
      },
      "source": [
        "imgs = os.listdir(\"test_imgs\")\n",
        "for img in imgs:\n",
        "  if img != 'locs':\n",
        "    predict(cv2.imread(os.path.join(\"test_imgs\",img)),img.split('.')[0])\n"
      ],
      "execution_count": null,
      "outputs": []
    }
  ]
}