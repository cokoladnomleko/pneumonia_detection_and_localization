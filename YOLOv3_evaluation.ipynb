{
 "metadata": {
  "language_info": {
   "codemirror_mode": {
    "name": "ipython",
    "version": 3
   },
   "file_extension": ".py",
   "mimetype": "text/x-python",
   "name": "python",
   "nbconvert_exporter": "python",
   "pygments_lexer": "ipython3",
   "version": "3.8.2-final"
  },
  "orig_nbformat": 2,
  "kernelspec": {
   "name": "python_defaultSpec_1598467217418",
   "display_name": "Python 3.8.2 32-bit"
  }
 },
 "nbformat": 4,
 "nbformat_minor": 2,
 "cells": [
  {
   "cell_type": "code",
   "execution_count": null,
   "metadata": {},
   "outputs": [],
   "source": [
    "import numpy as np\n",
    "import os\n",
    "import pandas as pd"
   ]
  },
  {
   "cell_type": "code",
   "execution_count": null,
   "metadata": {},
   "outputs": [],
   "source": [
    "csv_gt_path = '--path ground truth.csv--'\n",
    "csv_gt = pd.read_csv(csv_gt_path)\n",
    "csv_p = pd.read_csv(\"--output of classifier.csv--\")"
   ]
  },
  {
   "cell_type": "code",
   "execution_count": null,
   "metadata": {},
   "outputs": [],
   "source": [
    "def IOU(bb, bb_gt1, bb_gt2=None):\n",
    "    \"\"\"\n",
    "    INPUTS\n",
    "        bb -> bounding box\n",
    "        bb_gt1 -> first ground-truth bounding box\n",
    "        bb_gt2 -> second ground-truth bounding box (if exists)\n",
    "    RETURNS\n",
    "        Intersection Over Union for the detected bounding box and the ground truth box\n",
    "    \"\"\"\n",
    "    l = float(bb[0])\n",
    "    t = float(bb[1])\n",
    "    r = float(bb[2])\n",
    "    b = float(bb[3])\n",
    "    l1 = float(bb_gt1[0])\n",
    "    t1 = float(bb_gt1[1])\n",
    "    r1 = float(bb_gt1[2])\n",
    "    b1 = float(bb_gt1[3])\n",
    "\n",
    "    ru1 = min(r,r1)\n",
    "    lu1 = max(l,l1)\n",
    "    tu1 = min(t,t1)\n",
    "    bu1 = max(b,b1)\n",
    "    if (ru1>lu1) and (tu1>bu1):\n",
    "        area_of_overlap_1 = (ru1-lu1) * (tu1-bu1)\n",
    "        area_of_union_1 = (t-b)*(r-l) + (t1-b1)*(r1-l1) - area_of_overlap_1\n",
    "        iou_1 = area_of_overlap_1/area_of_union_1\n",
    "    else:\n",
    "        iou_1 = 0\n",
    "\n",
    "    if bb_gt2 != None:\n",
    "        r2 = float(bb_gt2[0])\n",
    "        t2 = float(bb_gt2[1])\n",
    "        l2 = float(bb_gt2[2])\n",
    "        b2 = float(bb_gt2[3])\n",
    "        \n",
    "        ru2 = min(r,r2)\n",
    "        lu2 = max(l,l2)\n",
    "        tu2 = min(t,t2)\n",
    "        bu2 = max(b,b2)\n",
    "        if (ru2>lu2) and (tu2>bu2):\n",
    "            area_of_overlap_2 = (ru2-lu2) * (tu2-bu2)\n",
    "            area_of_union_2 = (t-b)*(r-l) + (t2-b2)*(r2-l2) - area_of_overlap_2\n",
    "            iou_2 = area_of_overlap_2/area_of_union_2\n",
    "        else:\n",
    "            iou_2 = 0    \n",
    "        iou = max(iou_1, iou_2)\n",
    "    else:\n",
    "        iou = iou_1\n",
    "\n",
    "    return iou"
   ]
  },
  {
   "cell_type": "code",
   "execution_count": null,
   "metadata": {},
   "outputs": [],
   "source": [
    "def precision(tp,fp):\n",
    "    p = tp/(tp+fp)\n",
    "    return p\n",
    "\n",
    "def recall(tp,fn):\n",
    "    r = tp/(tp+fn)\n",
    "    return r\n",
    "\n",
    "def acc(tp,tn,fp,fn):\n",
    "    a = (tp+tn)/(tp+fp+tn+fn)        \n",
    "    return a\n",
    "\n",
    "def f1(tp,tn,fp,fn):\n",
    "    p = precision(tp,fp)\n",
    "    r = recall(tp,fn)\n",
    "    f = 2*p*r/(p+r)\n",
    "    return f    "
   ]
  },
  {
   "cell_type": "code",
   "execution_count": null,
   "metadata": {},
   "outputs": [],
   "source": [
    "def get_bbox(row):\n",
    "    img_size = 1024\n",
    "    new_img_size = 128\n",
    "\n",
    "    x = row[0]\n",
    "    y = row[1]\n",
    "    w = row[2]\n",
    "    h = row[3]\n",
    "\n",
    "    rw = w/img_size\n",
    "    rh = h/img_size\n",
    "    rx = x/img_size + rw/2\n",
    "    ry = y/img_size + rw/2\n",
    "    \n",
    "    l = int((rx-rw/2)*new_img_size)\n",
    "    t = int((ry-rh/2)*new_img_size+rh*new_img_size)\n",
    "    r = int(l + rw*new_img_size)\n",
    "    b = int((ry-rh/2)*new_img_size)\n",
    "\n",
    "    bb = [l,t,r,b]\n",
    "    return bb"
   ]
  },
  {
   "cell_type": "code",
   "execution_count": null,
   "metadata": {},
   "outputs": [],
   "source": [
    "def get_ground_truth(patient_id):\n",
    "    label = csv_gt.query('patientId == \"' + patient_id + '\"').values[0:2]\n",
    "    if label[0][5] == 0:\n",
    "        return 0\n",
    "    else:\n",
    "        if len(label) < 2:\n",
    "            bbox = get_bbox(label[0][1:5])\n",
    "            return bbox\n",
    "        else:   #if there is more than one bounding box\n",
    "            l1 = label[0]\n",
    "            l2 = label[1]\n",
    "            bbox1 = get_bbox(l1[1:5])   \n",
    "            bbox2 = get_bbox(l2[1:5])\n",
    "            bbox = [bbox1, bbox2]\n",
    "            return bbox\n"
   ]
  },
  {
   "cell_type": "code",
   "execution_count": null,
   "metadata": {},
   "outputs": [],
   "source": [
    "t_p = 0\n",
    "t_n = 0\n",
    "f_p = 0\n",
    "f_n = 0\n",
    "iou = []"
   ]
  },
  {
   "cell_type": "code",
   "execution_count": null,
   "metadata": {
    "tags": []
   },
   "outputs": [],
   "source": [
    "last_id = 'none'\n",
    "\n",
    "for i, row in csv_p.iterrows():\n",
    "    if i == 0:\n",
    "        pat_id = row['patientId'][:-1]\n",
    "        bbox = row['bbox']\n",
    "        gt_bbox = get_ground_truth(pat_id)\n",
    "        if bbox == 'none':\n",
    "            if gt_bbox == 0:\n",
    "                t_n = t_n + 1\n",
    "            else:\n",
    "                f_n = f_n + 1\n",
    "        else:\n",
    "            bb = bbox.split(' ')\n",
    "            if gt_bbox == 0:\n",
    "                f_p = f_p + 1\n",
    "            else:\n",
    "                t_p = t_p + 1 \n",
    "                if len(gt_bbox) == 4:\n",
    "                    iou = iou + [IOU(bb, gt_bbox)]\n",
    "                else:\n",
    "                    iou = iou + [IOU(bb, gt_bbox[0], gt_bbox[1])]\n",
    "    else:    \n",
    "        pat_id = row['patientId'][:-1]\n",
    "        bbox = row['bbox']\n",
    "        gt_bbox = get_ground_truth(pat_id)\n",
    "        \n",
    "        if last_id != pat_id:\n",
    "            if bbox == 'none':\n",
    "                if gt_bbox == 0:\n",
    "                    t_n = t_n + 1\n",
    "                else:\n",
    "                    f_n = f_n + 1\n",
    "            else:\n",
    "                bb = bbox.split(' ')\n",
    "                if gt_bbox == 0:\n",
    "                    f_p = f_p + 1\n",
    "                else:\n",
    "                    t_p = t_p + 1 \n",
    "                    if len(gt_bbox) == 4:\n",
    "                        iou = iou + [IOU(bb, gt_bbox)]\n",
    "                    else:\n",
    "                        iou = iou + [IOU(bb, gt_bbox[0], gt_bbox[1])]  \n",
    "        else:\n",
    "            if gt_bbox != 0:\n",
    "                if len(gt_bbox) == 4:\n",
    "                    iou = iou + [IOU(bb, gt_bbox)]\n",
    "                else:\n",
    "                    iou = iou + [IOU(bb, gt_bbox[0], gt_bbox[1])]\n",
    "    last_id = pat_id    "
   ]
  },
  {
   "cell_type": "code",
   "execution_count": null,
   "metadata": {
    "tags": []
   },
   "outputs": [],
   "source": [
    "print('True positive: {}'.format(t_p))\n",
    "print('True negative: {}'.format(t_n))\n",
    "print('False positive: {}'.format(f_p))\n",
    "print('False negative: {}'.format(f_n))"
   ]
  },
  {
   "cell_type": "code",
   "execution_count": null,
   "metadata": {
    "tags": []
   },
   "outputs": [],
   "source": [
    "mean_iou = np.mean(iou)\n",
    "print(\"Mean IOU: {}\".format(round(mean_iou,3)))"
   ]
  },
  {
   "cell_type": "code",
   "execution_count": null,
   "metadata": {},
   "outputs": [],
   "source": [
    "p = precision(t_p, f_p)\n",
    "r = recall(t_p, f_n)\n",
    "a = acc(t_p, t_n, f_p, f_n)\n",
    "f = f1(t_p, t_n, f_p, f_n)"
   ]
  },
  {
   "cell_type": "code",
   "execution_count": null,
   "metadata": {
    "tags": []
   },
   "outputs": [],
   "source": [
    "print('Precision: {}'.format(round(p,2)))\n",
    "print('Recall: {}'.format(round(r,2)))\n",
    "print('Accuracy: {}'.format(round(a,2)))\n",
    "print('F1-score: {}'.format(round(f,2)))"
   ]
  }
 ]
}