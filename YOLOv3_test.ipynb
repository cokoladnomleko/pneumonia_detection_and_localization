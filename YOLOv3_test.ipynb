{
  "nbformat": 4,
  "nbformat_minor": 0,
  "metadata": {
    "colab": {
      "name": "ABS_projekat_test.ipynb",
      "provenance": [],
      "collapsed_sections": []
    },
    "kernelspec": {
      "name": "python3",
      "display_name": "Python 3"
    }
  },
  "cells": [
    {
      "cell_type": "code",
      "metadata": {
        "id": "vWOBDn7ZLNyn",
        "colab_type": "code",
        "colab": {}
      },
      "source": [
        "import os\n",
        "import cv2\n",
        "import numpy as np\n",
        "import matplotlib.pyplot as plt"
      ],
      "execution_count": null,
      "outputs": []
    },
    {
      "source": [
        "Connecting Google Drive to Colab"
      ],
      "cell_type": "markdown",
      "metadata": {}
    },
    {
      "cell_type": "code",
      "metadata": {
        "id": "rHSdFuSbLaQQ",
        "colab_type": "code",
        "colab": {
          "base_uri": "https://localhost:8080/",
          "height": 34
        },
        "outputId": "097058fa-7fb9-40bd-832e-75bf4680bd35"
      },
      "source": [
        "from google.colab import drive\n",
        "drive.mount('/content/drive')"
      ],
      "execution_count": null,
      "outputs": []
    },
    {
      "cell_type": "code",
      "metadata": {
        "id": "7n4edsV5Ljvs",
        "colab_type": "code",
        "colab": {
          "base_uri": "https://localhost:8080/",
          "height": 1000
        },
        "outputId": "801e7dad-512d-4896-a7a2-67da660c5208"
      },
      "source": [
        "!unzip \"/content/drive/My Drive/--path to darknet folder--\"\n",
        "!unzip \"/content/drive/My Drive/--path to zipped test folder--\""
      ],
      "execution_count": null,
      "outputs": []
    },
    {
      "cell_type": "code",
      "metadata": {
        "id": "2XrijW1QLmJ0",
        "colab_type": "code",
        "colab": {
          "base_uri": "https://localhost:8080/",
          "height": 1000
        },
        "outputId": "88917cf9-b00f-40de-d5c6-4ec6aec2d4b4"
      },
      "source": [
        "%cd /content/darknet-master\n",
        "!make\n",
        "!chmod +x ./darknet"
      ],
      "execution_count": null,
      "outputs": []
    },
    {
      "cell_type": "code",
      "metadata": {
        "id": "tmLU7ONqLpYz",
        "colab_type": "code",
        "colab": {
          "base_uri": "https://localhost:8080/",
          "height": 408
        },
        "outputId": "6e19b168-aabb-4749-fd9d-270963e3349a"
      },
      "source": [
        "!sudo apt install dos2unix"
      ],
      "execution_count": null,
      "outputs": []
    },
    {
      "cell_type": "code",
      "metadata": {
        "id": "Q8cvW5FeLr6R",
        "colab_type": "code",
        "colab": {
          "base_uri": "https://localhost:8080/",
          "height": 136
        },
        "outputId": "121edd62-c1cc-4373-d000-039f68cd1af9"
      },
      "source": [
        "!dos2unix ./data/train.txt\n",
        "!dos2unix ./data/val.txt\n",
        "!dos2unix ./data/yolo.data\n",
        "!dos2unix ./data/yolo.names\n",
        "!dos2unix ./cfg/yolov3_custom_test.cfg"
      ],
      "execution_count": null,
      "outputs": []
    },
    {
      "source": [
        "# Predictions"
      ],
      "cell_type": "markdown",
      "metadata": {}
    },
    {
      "cell_type": "code",
      "metadata": {
        "id": "3ylTSwgcL2ay",
        "colab_type": "code",
        "colab": {}
      },
      "source": [
        "def get_ltrb(xc,yc,rw,rh):\n",
        "    l = int((xc-rw/2)*128)\n",
        "    t = int((yc-rh/2)*128+rh*128)\n",
        "    r = int(l + rw*128)\n",
        "    b = int((yc-rh/2)*128)\n",
        "    return [l,t,r,b]\n"
      ],
      "execution_count": null,
      "outputs": []
    },
    {
      "cell_type": "code",
      "metadata": {
        "id": "f1eIVfN3L3Fi",
        "colab_type": "code",
        "colab": {}
      },
      "source": [
        "cfg_path = \"cfg/yolov3_custom_test.cfg\"\n",
        "weights_path = \"backup/yolov3_custom_train_2000.weights\"\n",
        "net = cv2.dnn.readNetFromDarknet(cfg_path, weights_path)"
      ],
      "execution_count": null,
      "outputs": []
    },
    {
      "cell_type": "code",
      "metadata": {
        "id": "IErhCAQ9L5-9",
        "colab_type": "code",
        "colab": {}
      },
      "source": [
        "def predict(image, pat_id, f):\n",
        "    ln = net.getLayerNames()\n",
        "    ln = [ln[i[0] - 1] for i in net.getUnconnectedOutLayers()]\n",
        "    \n",
        "    blob = cv2.dnn.blobFromImage(image, 1/255.0, (416, 416), swapRB=True, crop=False)\n",
        "\n",
        "    net.setInput(blob)\n",
        "    layerOutputs = net.forward(ln)\n",
        "    \n",
        "    threshold = 0.1\n",
        "    br_det = 0\n",
        "    ltrb = []\n",
        "    for output in layerOutputs:\n",
        "        for detection in output:\n",
        "            if detection[4] > threshold:\n",
        "              br_det = br_det + 1\n",
        "              x, y, w, h = detection[:4]\n",
        "              ltrb = ltrb + [get_ltrb(x,y,w,h)]\n",
        "\n",
        "    if br_det == 0:\n",
        "      line = \"{} {}\\n\".format(pat_id, 'none')\n",
        "      f.write(line)\n",
        "    elif br_det > 0:\n",
        "      ltrb = ltrb[0:2]\n",
        "      for l in ltrb:\n",
        "        line = \"{} {} {} {} {}\\n\".format(pat_id, l[0], l[1], l[2], l[3])\n",
        "        f.write(line)\n",
        "    return"
      ],
      "execution_count": null,
      "outputs": []
    },
    {
      "cell_type": "code",
      "metadata": {
        "id": "eFyYpDiMY8NM",
        "colab_type": "code",
        "colab": {
          "base_uri": "https://localhost:8080/",
          "height": 34
        },
        "outputId": "b7f0713d-01c4-403c-ca42-9bda0aef0cc4"
      },
      "source": [
        "%cd /content"
      ],
      "execution_count": null,
      "outputs": []
    },
    {
      "cell_type": "code",
      "metadata": {
        "id": "SPbd80ocL967",
        "colab_type": "code",
        "colab": {
          "base_uri": "https://localhost:8080/",
          "height": 51
        },
        "outputId": "74bdbefa-357d-413e-9136-47b1f5d988aa"
      },
      "source": [
        "%%time\n",
        "\n",
        "imgs = os.listdir(\"dip_test1/p\")\n",
        "output_file_path = \"output.txt\"\n",
        "f = open(output_file_path, 'w')\n",
        "for img in imgs:\n",
        "  predict(cv2.imread(os.path.join(\"dip_test1/p\", img)), img.split('.')[0], f)\n",
        "f.close()    "
      ],
      "execution_count": null,
      "outputs": []
    }
  ]
}